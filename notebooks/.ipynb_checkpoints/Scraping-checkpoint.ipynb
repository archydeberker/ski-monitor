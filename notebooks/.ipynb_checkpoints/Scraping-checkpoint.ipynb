{
 "cells": [
  {
   "cell_type": "code",
   "execution_count": 28,
   "metadata": {},
   "outputs": [],
   "source": [
    "import requests\n",
    "from bs4 import BeautifulSoup\n",
    "import pandas as pd"
   ]
  },
  {
   "cell_type": "code",
   "execution_count": 5,
   "metadata": {},
   "outputs": [],
   "source": [
    "jay_page = 'https://www.onthesnow.com/vermont/jay-peak/skireport.html'"
   ]
  },
  {
   "cell_type": "code",
   "execution_count": 6,
   "metadata": {},
   "outputs": [],
   "source": [
    "html = requests.get(jay_page)"
   ]
  },
  {
   "cell_type": "code",
   "execution_count": 11,
   "metadata": {},
   "outputs": [],
   "source": [
    "soup = BeautifulSoup(html.text, 'html.parser')"
   ]
  },
  {
   "cell_type": "code",
   "execution_count": 22,
   "metadata": {},
   "outputs": [],
   "source": [
    "loc_dict = {'Jay Peak':'https://www.onthesnow.com/vermont/jay-peak/skireport.html',\n",
    "            'Mt Sutton':'https://www.onthesnow.ca/quebec/mont-sutton/skireport.html',\n",
    "            'Mt Tremblant': 'https://www.onthesnow.ca/quebec/tremblant/skireport.html',\n",
    "            'St Anne': 'https://www.onthesnow.ca/quebec/mont-sainte-anne/skireport.html',\n",
    "            'Le Massif': 'https://www.onthesnow.ca/quebec/le-massif/skireport.html',\n",
    "           }"
   ]
  },
  {
   "cell_type": "code",
   "execution_count": 43,
   "metadata": {},
   "outputs": [
    {
     "data": {
      "text/plain": [
       "<filter at 0x1131b37f0>"
      ]
     },
     "execution_count": 43,
     "metadata": {},
     "output_type": "execute_result"
    }
   ],
   "source": [
    "filter(str.isdigit, value)"
   ]
  },
  {
   "cell_type": "code",
   "execution_count": 50,
   "metadata": {},
   "outputs": [],
   "source": [
    "snow_depth = {}\n",
    "\n",
    "for location in loc_dict:\n",
    "    snow_depth[location] = {}\n",
    "    \n",
    "    r = requests.get(loc_dict[location])\n",
    "    soup = BeautifulSoup(r.text, 'html.parser')\n",
    "    \n",
    "    for slope in ['upper', 'middle', 'lower']:\n",
    "        list_item = soup.find('li', attrs={'class':'elevation %s' % slope})\n",
    "        value = list_item.find('div', attrs={'class':\"bluePill\"}).contents[0]\n",
    "        value = int(''.join(list(filter(str.isdigit, value))))\n",
    "        \n",
    "        if location == 'Jay Peak':\n",
    "            value=int(value*2.54)\n",
    "        \n",
    "        snow_depth[location][slope] = value"
   ]
  },
  {
   "cell_type": "code",
   "execution_count": 51,
   "metadata": {},
   "outputs": [
    {
     "data": {
      "text/plain": [
       "{'Jay Peak': {'lower': 50, 'middle': 73, 'upper': 116},\n",
       " 'Le Massif': {'lower': 68, 'middle': 68, 'upper': 68},\n",
       " 'Mt Sutton': {'lower': 50, 'middle': 75, 'upper': 115},\n",
       " 'Mt Tremblant': {'lower': 60, 'middle': 60, 'upper': 60},\n",
       " 'St Anne': {'lower': 67, 'middle': 66, 'upper': 79}}"
      ]
     },
     "execution_count": 51,
     "metadata": {},
     "output_type": "execute_result"
    }
   ],
   "source": [
    "snow_depth"
   ]
  },
  {
   "cell_type": "code",
   "execution_count": 53,
   "metadata": {},
   "outputs": [],
   "source": [
    "df_list = []\n",
    "\n",
    "for location in snow_depth.keys():\n",
    "    df_list.append(pd.DataFrame(snow_depth[location], index=[location]))\n",
    "    \n",
    "    "
   ]
  },
  {
   "cell_type": "code",
   "execution_count": 54,
   "metadata": {},
   "outputs": [],
   "source": [
    "df = pd.concat(df_list)"
   ]
  },
  {
   "cell_type": "code",
   "execution_count": 55,
   "metadata": {},
   "outputs": [
    {
     "data": {
      "text/html": [
       "<div>\n",
       "<style scoped>\n",
       "    .dataframe tbody tr th:only-of-type {\n",
       "        vertical-align: middle;\n",
       "    }\n",
       "\n",
       "    .dataframe tbody tr th {\n",
       "        vertical-align: top;\n",
       "    }\n",
       "\n",
       "    .dataframe thead th {\n",
       "        text-align: right;\n",
       "    }\n",
       "</style>\n",
       "<table border=\"1\" class=\"dataframe\">\n",
       "  <thead>\n",
       "    <tr style=\"text-align: right;\">\n",
       "      <th></th>\n",
       "      <th>lower</th>\n",
       "      <th>middle</th>\n",
       "      <th>upper</th>\n",
       "    </tr>\n",
       "  </thead>\n",
       "  <tbody>\n",
       "    <tr>\n",
       "      <th>Jay Peak</th>\n",
       "      <td>50</td>\n",
       "      <td>73</td>\n",
       "      <td>116</td>\n",
       "    </tr>\n",
       "    <tr>\n",
       "      <th>Mt Sutton</th>\n",
       "      <td>50</td>\n",
       "      <td>75</td>\n",
       "      <td>115</td>\n",
       "    </tr>\n",
       "    <tr>\n",
       "      <th>Mt Tremblant</th>\n",
       "      <td>60</td>\n",
       "      <td>60</td>\n",
       "      <td>60</td>\n",
       "    </tr>\n",
       "    <tr>\n",
       "      <th>St Anne</th>\n",
       "      <td>67</td>\n",
       "      <td>66</td>\n",
       "      <td>79</td>\n",
       "    </tr>\n",
       "    <tr>\n",
       "      <th>Le Massif</th>\n",
       "      <td>68</td>\n",
       "      <td>68</td>\n",
       "      <td>68</td>\n",
       "    </tr>\n",
       "  </tbody>\n",
       "</table>\n",
       "</div>"
      ],
      "text/plain": [
       "              lower  middle  upper\n",
       "Jay Peak         50      73    116\n",
       "Mt Sutton        50      75    115\n",
       "Mt Tremblant     60      60     60\n",
       "St Anne          67      66     79\n",
       "Le Massif        68      68     68"
      ]
     },
     "execution_count": 55,
     "metadata": {},
     "output_type": "execute_result"
    }
   ],
   "source": [
    "df"
   ]
  },
  {
   "cell_type": "code",
   "execution_count": 56,
   "metadata": {},
   "outputs": [
    {
     "data": {
      "text/plain": [
       "array(['Jay Peak', 'Mt Sutton', 'Mt Tremblant', 'St Anne', 'Le Massif'],\n",
       "      dtype=object)"
      ]
     },
     "execution_count": 56,
     "metadata": {},
     "output_type": "execute_result"
    }
   ],
   "source": [
    "df.index.values"
   ]
  },
  {
   "cell_type": "code",
   "execution_count": 58,
   "metadata": {},
   "outputs": [
    {
     "data": {
      "text/plain": [
       "lower      50\n",
       "middle     73\n",
       "upper     116\n",
       "Name: Jay Peak, dtype: int64"
      ]
     },
     "execution_count": 58,
     "metadata": {},
     "output_type": "execute_result"
    }
   ],
   "source": [
    "df.loc['Jay Peak']"
   ]
  },
  {
   "cell_type": "code",
   "execution_count": 59,
   "metadata": {},
   "outputs": [],
   "source": [
    "df['location'] = df.index"
   ]
  },
  {
   "cell_type": "code",
   "execution_count": 60,
   "metadata": {},
   "outputs": [
    {
     "data": {
      "text/html": [
       "<div>\n",
       "<style scoped>\n",
       "    .dataframe tbody tr th:only-of-type {\n",
       "        vertical-align: middle;\n",
       "    }\n",
       "\n",
       "    .dataframe tbody tr th {\n",
       "        vertical-align: top;\n",
       "    }\n",
       "\n",
       "    .dataframe thead th {\n",
       "        text-align: right;\n",
       "    }\n",
       "</style>\n",
       "<table border=\"1\" class=\"dataframe\">\n",
       "  <thead>\n",
       "    <tr style=\"text-align: right;\">\n",
       "      <th></th>\n",
       "      <th>lower</th>\n",
       "      <th>middle</th>\n",
       "      <th>upper</th>\n",
       "      <th>location</th>\n",
       "    </tr>\n",
       "  </thead>\n",
       "  <tbody>\n",
       "    <tr>\n",
       "      <th>Jay Peak</th>\n",
       "      <td>50</td>\n",
       "      <td>73</td>\n",
       "      <td>116</td>\n",
       "      <td>Jay Peak</td>\n",
       "    </tr>\n",
       "    <tr>\n",
       "      <th>Mt Sutton</th>\n",
       "      <td>50</td>\n",
       "      <td>75</td>\n",
       "      <td>115</td>\n",
       "      <td>Mt Sutton</td>\n",
       "    </tr>\n",
       "    <tr>\n",
       "      <th>Mt Tremblant</th>\n",
       "      <td>60</td>\n",
       "      <td>60</td>\n",
       "      <td>60</td>\n",
       "      <td>Mt Tremblant</td>\n",
       "    </tr>\n",
       "    <tr>\n",
       "      <th>St Anne</th>\n",
       "      <td>67</td>\n",
       "      <td>66</td>\n",
       "      <td>79</td>\n",
       "      <td>St Anne</td>\n",
       "    </tr>\n",
       "    <tr>\n",
       "      <th>Le Massif</th>\n",
       "      <td>68</td>\n",
       "      <td>68</td>\n",
       "      <td>68</td>\n",
       "      <td>Le Massif</td>\n",
       "    </tr>\n",
       "  </tbody>\n",
       "</table>\n",
       "</div>"
      ],
      "text/plain": [
       "              lower  middle  upper      location\n",
       "Jay Peak         50      73    116      Jay Peak\n",
       "Mt Sutton        50      75    115     Mt Sutton\n",
       "Mt Tremblant     60      60     60  Mt Tremblant\n",
       "St Anne          67      66     79       St Anne\n",
       "Le Massif        68      68     68     Le Massif"
      ]
     },
     "execution_count": 60,
     "metadata": {},
     "output_type": "execute_result"
    }
   ],
   "source": [
    "df"
   ]
  },
  {
   "cell_type": "code",
   "execution_count": null,
   "metadata": {},
   "outputs": [],
   "source": []
  }
 ],
 "metadata": {
  "kernelspec": {
   "display_name": "ski",
   "language": "python",
   "name": "ski"
  },
  "language_info": {
   "codemirror_mode": {
    "name": "ipython",
    "version": 3
   },
   "file_extension": ".py",
   "mimetype": "text/x-python",
   "name": "python",
   "nbconvert_exporter": "python",
   "pygments_lexer": "ipython3",
   "version": "3.6.2"
  }
 },
 "nbformat": 4,
 "nbformat_minor": 2
}
