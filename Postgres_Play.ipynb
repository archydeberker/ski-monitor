{
 "cells": [
  {
   "cell_type": "code",
   "execution_count": 1,
   "metadata": {},
   "outputs": [
    {
     "name": "stderr",
     "output_type": "stream",
     "text": [
      "/Users/stephaniewillis/.virtualenvs/ski/lib/python3.6/site-packages/psycopg2/__init__.py:144: UserWarning: The psycopg2 wheel package will be renamed from release 2.8; in order to keep installing from binary please use \"pip install psycopg2-binary\" instead. For details see: <http://initd.org/psycopg/docs/install.html#binary-install-from-pypi>.\n",
      "  \"\"\")\n"
     ]
    }
   ],
   "source": [
    "import os\n",
    "from urllib import parse\n",
    "import psycopg2\n",
    "import numpy as np\n",
    "import pandas as pd\n",
    "import requests\n",
    "import json\n",
    "import datetime"
   ]
  },
  {
   "cell_type": "code",
   "execution_count": 2,
   "metadata": {},
   "outputs": [],
   "source": [
    "\n",
    "parse.uses_netloc.append(\"postgres\")\n",
    "url = parse.urlparse(os.environ.get(\"DATABASE_URL\"))\n",
    "\n",
    "conn = psycopg2.connect(\n",
    "    database=url.path[1:],\n",
    "    user=url.username,\n",
    "    password=url.password,\n",
    "    host=url.hostname,\n",
    "    port=url.port)\n"
   ]
  },
  {
   "cell_type": "code",
   "execution_count": 3,
   "metadata": {},
   "outputs": [],
   "source": [
    "cursor = conn.cursor()"
   ]
  },
  {
   "cell_type": "code",
   "execution_count": 4,
   "metadata": {},
   "outputs": [
    {
     "name": "stdout",
     "output_type": "stream",
     "text": [
      "[('temperatures',), ('forecasts',), ('current',)]\n"
     ]
    }
   ],
   "source": [
    "cursor.execute(\"select relname from pg_class where relkind='r' and relname !~ '^(pg_|sql_)';\")\n",
    "print(cursor.fetchall())"
   ]
  },
  {
   "cell_type": "code",
   "execution_count": 22,
   "metadata": {},
   "outputs": [],
   "source": [
    "cursor=conn.cursor()\n",
    "cursor.execute(\"CREATE TABLE temperatures( \\\n",
    "                resort TEXT, \\\n",
    "                time TIMESTAMP, \\\n",
    "                measurement REAL, \\\n",
    "                PRIMARY KEY(resort, time));\")"
   ]
  },
  {
   "cell_type": "code",
   "execution_count": 160,
   "metadata": {},
   "outputs": [],
   "source": [
    "conn.rollback()"
   ]
  },
  {
   "cell_type": "code",
   "execution_count": 90,
   "metadata": {
    "collapsed": true
   },
   "outputs": [],
   "source": [
    "conn.commit()"
   ]
  },
  {
   "cell_type": "code",
   "execution_count": 30,
   "metadata": {},
   "outputs": [
    {
     "name": "stdout",
     "output_type": "stream",
     "text": [
      "2018-02-17 14:11:09\n"
     ]
    }
   ],
   "source": [
    "import datetime\n",
    "print(datetime.datetime.now().strftime('%Y-%m-%d %H:%M:%S')\n",
    ")"
   ]
  },
  {
   "cell_type": "code",
   "execution_count": 99,
   "metadata": {},
   "outputs": [],
   "source": [
    "base_str = \"INSERT INTO temperatures (resort, time, measurement) VALUES ( \\\n",
    "            'Sutton',  '%s',  %1.2f)\"\n",
    "\n",
    "for i in range(10):\n",
    "    timestamp = (datetime.datetime.now()+datetime.timedelta(days=i)).strftime('%Y-%m-%d %H:%M:%S')\n",
    "    measurement = np.random.randn()\n",
    "\n",
    "    cursor.execute(base_str%(timestamp, measurement))\n",
    "\n",
    "    \n",
    "conn.commit()"
   ]
  },
  {
   "cell_type": "code",
   "execution_count": 92,
   "metadata": {},
   "outputs": [],
   "source": [
    "cursor=conn.cursor()\n",
    "cursor.execute(\"SELECT * from temperatures;\")\n"
   ]
  },
  {
   "cell_type": "code",
   "execution_count": 93,
   "metadata": {},
   "outputs": [
    {
     "data": {
      "text/plain": [
       "('jay', datetime.datetime(2018, 2, 17, 14, 28, 2), -1.12)"
      ]
     },
     "execution_count": 93,
     "metadata": {},
     "output_type": "execute_result"
    }
   ],
   "source": [
    "cursor.fetchone()"
   ]
  },
  {
   "cell_type": "code",
   "execution_count": 7,
   "metadata": {},
   "outputs": [],
   "source": [
    "df = pd.read_sql('SELECT * from current;', conn)"
   ]
  },
  {
   "cell_type": "code",
   "execution_count": 8,
   "metadata": {},
   "outputs": [
    {
     "data": {
      "text/html": [
       "<div>\n",
       "<style scoped>\n",
       "    .dataframe tbody tr th:only-of-type {\n",
       "        vertical-align: middle;\n",
       "    }\n",
       "\n",
       "    .dataframe tbody tr th {\n",
       "        vertical-align: top;\n",
       "    }\n",
       "\n",
       "    .dataframe thead th {\n",
       "        text-align: right;\n",
       "    }\n",
       "</style>\n",
       "<table border=\"1\" class=\"dataframe\">\n",
       "  <thead>\n",
       "    <tr style=\"text-align: right;\">\n",
       "      <th></th>\n",
       "      <th>location</th>\n",
       "      <th>timestamp</th>\n",
       "      <th>rain_mm</th>\n",
       "      <th>snow_mm</th>\n",
       "      <th>temp_c_max</th>\n",
       "      <th>temp_c_min</th>\n",
       "      <th>windspeed_mph</th>\n",
       "    </tr>\n",
       "  </thead>\n",
       "  <tbody>\n",
       "    <tr>\n",
       "      <th>0</th>\n",
       "      <td>Jay Peak</td>\n",
       "      <td>2018-02-17 21:10:00</td>\n",
       "      <td>0.0</td>\n",
       "      <td>0.0</td>\n",
       "      <td>-3.2</td>\n",
       "      <td>-3.7</td>\n",
       "      <td>7.0</td>\n",
       "    </tr>\n",
       "    <tr>\n",
       "      <th>1</th>\n",
       "      <td>Mt Sutton</td>\n",
       "      <td>2018-02-17 21:10:00</td>\n",
       "      <td>0.0</td>\n",
       "      <td>0.0</td>\n",
       "      <td>-3.2</td>\n",
       "      <td>-3.7</td>\n",
       "      <td>7.0</td>\n",
       "    </tr>\n",
       "    <tr>\n",
       "      <th>2</th>\n",
       "      <td>Mt Tremblant</td>\n",
       "      <td>2018-02-17 21:10:00</td>\n",
       "      <td>0.0</td>\n",
       "      <td>0.0</td>\n",
       "      <td>-6.0</td>\n",
       "      <td>-7.0</td>\n",
       "      <td>4.0</td>\n",
       "    </tr>\n",
       "    <tr>\n",
       "      <th>3</th>\n",
       "      <td>St Anne</td>\n",
       "      <td>2018-02-17 21:10:00</td>\n",
       "      <td>0.0</td>\n",
       "      <td>0.0</td>\n",
       "      <td>-10.6</td>\n",
       "      <td>-10.6</td>\n",
       "      <td>3.0</td>\n",
       "    </tr>\n",
       "    <tr>\n",
       "      <th>4</th>\n",
       "      <td>Le Massif</td>\n",
       "      <td>2018-02-17 21:10:00</td>\n",
       "      <td>0.0</td>\n",
       "      <td>0.0</td>\n",
       "      <td>-5.7</td>\n",
       "      <td>-5.7</td>\n",
       "      <td>6.0</td>\n",
       "    </tr>\n",
       "  </tbody>\n",
       "</table>\n",
       "</div>"
      ],
      "text/plain": [
       "       location           timestamp  rain_mm  snow_mm  temp_c_max  temp_c_min  \\\n",
       "0      Jay Peak 2018-02-17 21:10:00      0.0      0.0        -3.2        -3.7   \n",
       "1     Mt Sutton 2018-02-17 21:10:00      0.0      0.0        -3.2        -3.7   \n",
       "2  Mt Tremblant 2018-02-17 21:10:00      0.0      0.0        -6.0        -7.0   \n",
       "3       St Anne 2018-02-17 21:10:00      0.0      0.0       -10.6       -10.6   \n",
       "4     Le Massif 2018-02-17 21:10:00      0.0      0.0        -5.7        -5.7   \n",
       "\n",
       "   windspeed_mph  \n",
       "0            7.0  \n",
       "1            7.0  \n",
       "2            4.0  \n",
       "3            3.0  \n",
       "4            6.0  "
      ]
     },
     "execution_count": 8,
     "metadata": {},
     "output_type": "execute_result"
    }
   ],
   "source": [
    "df"
   ]
  },
  {
   "cell_type": "code",
   "execution_count": 100,
   "metadata": {
    "collapsed": true
   },
   "outputs": [],
   "source": [
    "baseurl = 'https://api.weatherunlocked.com/'"
   ]
  },
  {
   "cell_type": "code",
   "execution_count": 101,
   "metadata": {
    "collapsed": true
   },
   "outputs": [],
   "source": []
  },
  {
   "cell_type": "code",
   "execution_count": 123,
   "metadata": {},
   "outputs": [],
   "source": [
    "r=requests.get('http://api.weatherunlocked.com/api/current/51.50,-0.12?app_id=6765a93c&app_key=51b7b6cb5cf11b77b78d84d8f5c44845')"
   ]
  },
  {
   "cell_type": "code",
   "execution_count": 124,
   "metadata": {},
   "outputs": [
    {
     "data": {
      "text/plain": [
       "'{\"lat\":51.5,\"lon\":0.05,\"alt_m\":5.0,\"alt_ft\":16.4,\"wx_desc\":\"Partly cloudy\",\"wx_code\":1,\"wx_icon\":\"PartlyCloudyNight.gif\",\"temp_c\":6.0,\"temp_f\":42.8,\"feelslike_c\":4.59,\"feelslike_f\":40.26,\"humid_pct\":75.0,\"windspd_mph\":4.35,\"windspd_kmh\":7.0,\"windspd_kts\":3.78,\"windspd_ms\":1.94,\"winddir_deg\":220.0,\"winddir_compass\":\"SW\",\"cloudtotal_pct\":50.0,\"vis_km\":10.0,\"vis_mi\":6.21,\"vis_desc\":null,\"slp_mb\":1023.0,\"slp_in\":30.29,\"dewpoint_c\":1.93,\"dewpoint_f\":35.47}'"
      ]
     },
     "execution_count": 124,
     "metadata": {},
     "output_type": "execute_result"
    }
   ],
   "source": [
    "r.text"
   ]
  },
  {
   "cell_type": "code",
   "execution_count": 15,
   "metadata": {},
   "outputs": [],
   "source": [
    "loc_dict = {'Jay Peak':(44.9649,-72.4602), \n",
    "            'Mt Sutton':(45.1047, -72.5618),\n",
    "            'Mt Tremblant': (46.1185,-74.5962),\n",
    "            'St Anne': (47.0754,-70.9049),\n",
    "            'Le Massif': (47.2848,-70.5697),\n",
    "           }"
   ]
  },
  {
   "cell_type": "code",
   "execution_count": 110,
   "metadata": {},
   "outputs": [],
   "source": [
    "r=requests.get('http://api.weatherunlocked.com/api/forecast/%1.2f,%1.2f?app_id=6765a93c&app_key=51b7b6cb5cf11b77b78d84d8f5c44845'%(loc_dict['Mt Sutton']))"
   ]
  },
  {
   "cell_type": "code",
   "execution_count": 111,
   "metadata": {},
   "outputs": [],
   "source": [
    "result = json.loads(r.text)"
   ]
  },
  {
   "cell_type": "code",
   "execution_count": 132,
   "metadata": {},
   "outputs": [
    {
     "data": {
      "text/plain": [
       "'17/02/2018'"
      ]
     },
     "execution_count": 132,
     "metadata": {},
     "output_type": "execute_result"
    }
   ],
   "source": [
    "result['Days'][0]['date']"
   ]
  },
  {
   "cell_type": "code",
   "execution_count": 109,
   "metadata": {},
   "outputs": [
    {
     "data": {
      "text/plain": [
       "{'alt_ft': 498.69,\n",
       " 'alt_m': 152.0,\n",
       " 'cloudtotal_pct': 50.0,\n",
       " 'dewpoint_c': -12.66,\n",
       " 'dewpoint_f': 9.21,\n",
       " 'feelslike_c': -5.15,\n",
       " 'feelslike_f': 22.72,\n",
       " 'humid_pct': 43.0,\n",
       " 'lat': 45.05,\n",
       " 'lon': -72.83,\n",
       " 'slp_in': 30.18,\n",
       " 'slp_mb': 1019.0,\n",
       " 'temp_c': -1.8,\n",
       " 'temp_f': 28.76,\n",
       " 'vis_desc': None,\n",
       " 'vis_km': 14.0,\n",
       " 'vis_mi': 8.7,\n",
       " 'winddir_compass': 'SSE',\n",
       " 'winddir_deg': 160.0,\n",
       " 'windspd_kmh': 9.0,\n",
       " 'windspd_kts': 4.86,\n",
       " 'windspd_mph': 5.59,\n",
       " 'windspd_ms': 2.5,\n",
       " 'wx_code': 1,\n",
       " 'wx_desc': 'Partly cloudy',\n",
       " 'wx_icon': 'PartlyCloudyNight.gif'}"
      ]
     },
     "execution_count": 109,
     "metadata": {},
     "output_type": "execute_result"
    }
   ],
   "source": [
    "result"
   ]
  },
  {
   "cell_type": "code",
   "execution_count": 193,
   "metadata": {},
   "outputs": [],
   "source": [
    "def get_current_weather(loc_dict):\n",
    "    \n",
    "    data_dict = {}\n",
    "    for location in loc_dict.keys():\n",
    "        \n",
    "        r = requests.get('http://api.weatherunlocked.com/api/forecast/%1.2f,%1.2f?app_id=6765a93c&app_key=51b7b6cb5cf11b77b78d84d8f5c44845'%(loc_dict[location]))\n",
    "        \n",
    "        result = json.loads(r.text)\n",
    "        \n",
    "        data_dict[location] = {'Windspeed_Mph':result['Days'][0]['windspd_max_mph'],\n",
    "                               'Rain_mm': result['Days'][0]['rain_total_mm'],\n",
    "                               'Snow_mm': result['Days'][0]['snow_total_mm'],\n",
    "                               'Temp_C_Max': result['Days'][0]['temp_max_c'],\n",
    "                               'Temp_C_Min': result['Days'][0]['temp_min_c'],\n",
    "                               'Timestamp': datetime.datetime.now().strftime('%Y-%m-%d %H:%M'),\n",
    "                              } \n",
    "    \n",
    "    return data_dict\n",
    "\n",
    "def get_forecast_weather(loc_dict):\n",
    "    \n",
    "    data_dict = {}\n",
    "    \n",
    "    for location in loc_dict.keys():\n",
    "\n",
    "        r = requests.get('http://api.weatherunlocked.com/api/forecast/%1.2f,%1.2f?app_id=6765a93c&app_key=51b7b6cb5cf11b77b78d84d8f5c44845'%(loc_dict[location]))\n",
    "        \n",
    "        result = json.loads(r.text)\n",
    "        tomorrow = result['Days'][1]['Timeframes']\n",
    "        \n",
    "        data_dict[location] ={}\n",
    "        for i in range(8):\n",
    "            timestamp = (datetime.datetime.strptime(result['Days'][1]['date'],'%d/%m/%Y')\n",
    "                         +datetime.timedelta(hours=int(tomorrow[i]['time'])/100)).strftime('%Y-%m-%d %H:%M')\n",
    "            data_dict[location][timestamp]= {'Windspeed_Mph':tomorrow[i]['windspd_mph'],\n",
    "                                                       'Rain_mm': tomorrow[i]['rain_mm'],\n",
    "                                                       'Snow_mm': tomorrow[i]['snow_mm'],\n",
    "                                                       'Temp_C_Max': tomorrow[i]['temp_c'],\n",
    "                                                       'Temp_C_Min': tomorrow[i]['temp_c'],\n",
    "\n",
    "                              } \n",
    "        \n",
    "    \n",
    "    return data_dict\n",
    "    \n",
    "def add_row(data, table_name):\n",
    "    base_str = \"INSERT INTO temperatures (resort, time, measurement) VALUES ( \\\n",
    "            'Sutton',  '%s',  %1.2f)\"\n",
    "    \n",
    "    columns = data.keys()\n",
    "    values = [data[column] for column in columns]\n",
    "\n",
    "    insert_statement = 'INSERT into ' + table_name + ' (%s) values %s'\n",
    "\n",
    "    cursor=conn.cursor()\n",
    "    cursor.execute(insert_statement, (AsIs(','.join(columns)), tuple(values)))\n",
    "    \n",
    "    \n",
    "def add_forecasts(forecast_dict):\n",
    "    \n",
    "    for location in forecast_dict.keys():\n",
    "\n",
    "        for timestamp in forecast_dict[location]:\n",
    "            data = forecast_dict[location][timestamp]\n",
    "            data['Timestamp'] = timestamp\n",
    "            data['Location'] = location\n",
    "\n",
    "            add_row(data, 'forecasts')\n",
    "            \n",
    "def add_current(current_dict):\n",
    "    \n",
    "    for location in forecast_dict.keys():\n",
    "\n",
    "        data = current_dict[location]\n",
    "        data['Location'] = location\n",
    "\n",
    "        add_row(data, 'current')"
   ]
  },
  {
   "cell_type": "code",
   "execution_count": 143,
   "metadata": {},
   "outputs": [
    {
     "data": {
      "text/plain": [
       "{'Jay Peak': {'2018-02-18 02:00': {'Rain mm': 0.0,\n",
       "   'Snow mm': 0.0,\n",
       "   'Temp C Max': -5.2,\n",
       "   'Temp C Min': -5.2,\n",
       "   'Windspeed mph': 6.0},\n",
       "  '2018-02-18 05:00': {'Rain mm': 0.0,\n",
       "   'Snow mm': 1.0,\n",
       "   'Temp C Max': -5.7,\n",
       "   'Temp C Min': -5.7,\n",
       "   'Windspeed mph': 4.0},\n",
       "  '2018-02-18 08:00': {'Rain mm': 0.0,\n",
       "   'Snow mm': 0.0,\n",
       "   'Temp C Max': -5.2,\n",
       "   'Temp C Min': -5.2,\n",
       "   'Windspeed mph': 7.0},\n",
       "  '2018-02-18 11:00': {'Rain mm': 0.0,\n",
       "   'Snow mm': 0.0,\n",
       "   'Temp C Max': -3.8,\n",
       "   'Temp C Min': -3.8,\n",
       "   'Windspeed mph': 10.0},\n",
       "  '2018-02-18 14:00': {'Rain mm': 0.0,\n",
       "   'Snow mm': 0.0,\n",
       "   'Temp C Max': -2.9,\n",
       "   'Temp C Min': -2.9,\n",
       "   'Windspeed mph': 12.0},\n",
       "  '2018-02-18 17:00': {'Rain mm': 0.0,\n",
       "   'Snow mm': 0.0,\n",
       "   'Temp C Max': -3.2,\n",
       "   'Temp C Min': -3.2,\n",
       "   'Windspeed mph': 9.0},\n",
       "  '2018-02-18 20:00': {'Rain mm': 0.0,\n",
       "   'Snow mm': 0.0,\n",
       "   'Temp C Max': -3.4,\n",
       "   'Temp C Min': -3.4,\n",
       "   'Windspeed mph': 4.0},\n",
       "  '2018-02-18 23:00': {'Rain mm': 0.0,\n",
       "   'Snow mm': 0.0,\n",
       "   'Temp C Max': -4.4,\n",
       "   'Temp C Min': -4.4,\n",
       "   'Windspeed mph': 4.0}},\n",
       " 'Le Massif': {'2018-02-18 02:00': {'Rain mm': 0.0,\n",
       "   'Snow mm': 0.0,\n",
       "   'Temp C Max': -6.6,\n",
       "   'Temp C Min': -6.6,\n",
       "   'Windspeed mph': 7.0},\n",
       "  '2018-02-18 05:00': {'Rain mm': 0.0,\n",
       "   'Snow mm': 0.0,\n",
       "   'Temp C Max': -6.5,\n",
       "   'Temp C Min': -6.5,\n",
       "   'Windspeed mph': 7.0},\n",
       "  '2018-02-18 08:00': {'Rain mm': 0.0,\n",
       "   'Snow mm': 0.0,\n",
       "   'Temp C Max': -5.8,\n",
       "   'Temp C Min': -5.8,\n",
       "   'Windspeed mph': 7.0},\n",
       "  '2018-02-18 11:00': {'Rain mm': 0.0,\n",
       "   'Snow mm': 0.0,\n",
       "   'Temp C Max': -6.6,\n",
       "   'Temp C Min': -6.6,\n",
       "   'Windspeed mph': 9.0},\n",
       "  '2018-02-18 14:00': {'Rain mm': 0.0,\n",
       "   'Snow mm': 0.0,\n",
       "   'Temp C Max': -5.7,\n",
       "   'Temp C Min': -5.7,\n",
       "   'Windspeed mph': 11.0},\n",
       "  '2018-02-18 17:00': {'Rain mm': 0.0,\n",
       "   'Snow mm': 0.0,\n",
       "   'Temp C Max': -3.6,\n",
       "   'Temp C Min': -3.6,\n",
       "   'Windspeed mph': 8.0},\n",
       "  '2018-02-18 20:00': {'Rain mm': 0.0,\n",
       "   'Snow mm': 0.0,\n",
       "   'Temp C Max': -5.7,\n",
       "   'Temp C Min': -5.7,\n",
       "   'Windspeed mph': 7.0},\n",
       "  '2018-02-18 23:00': {'Rain mm': 0.0,\n",
       "   'Snow mm': 0.0,\n",
       "   'Temp C Max': -7.4,\n",
       "   'Temp C Min': -7.4,\n",
       "   'Windspeed mph': 5.0}},\n",
       " 'Mt Sutton': {'2018-02-18 02:00': {'Rain mm': 0.0,\n",
       "   'Snow mm': 0.0,\n",
       "   'Temp C Max': -5.2,\n",
       "   'Temp C Min': -5.2,\n",
       "   'Windspeed mph': 6.0},\n",
       "  '2018-02-18 05:00': {'Rain mm': 0.0,\n",
       "   'Snow mm': 1.0,\n",
       "   'Temp C Max': -5.7,\n",
       "   'Temp C Min': -5.7,\n",
       "   'Windspeed mph': 4.0},\n",
       "  '2018-02-18 08:00': {'Rain mm': 0.0,\n",
       "   'Snow mm': 0.0,\n",
       "   'Temp C Max': -5.2,\n",
       "   'Temp C Min': -5.2,\n",
       "   'Windspeed mph': 7.0},\n",
       "  '2018-02-18 11:00': {'Rain mm': 0.0,\n",
       "   'Snow mm': 0.0,\n",
       "   'Temp C Max': -3.8,\n",
       "   'Temp C Min': -3.8,\n",
       "   'Windspeed mph': 10.0},\n",
       "  '2018-02-18 14:00': {'Rain mm': 0.0,\n",
       "   'Snow mm': 0.0,\n",
       "   'Temp C Max': -2.9,\n",
       "   'Temp C Min': -2.9,\n",
       "   'Windspeed mph': 12.0},\n",
       "  '2018-02-18 17:00': {'Rain mm': 0.0,\n",
       "   'Snow mm': 0.0,\n",
       "   'Temp C Max': -3.2,\n",
       "   'Temp C Min': -3.2,\n",
       "   'Windspeed mph': 9.0},\n",
       "  '2018-02-18 20:00': {'Rain mm': 0.0,\n",
       "   'Snow mm': 0.0,\n",
       "   'Temp C Max': -3.4,\n",
       "   'Temp C Min': -3.4,\n",
       "   'Windspeed mph': 4.0},\n",
       "  '2018-02-18 23:00': {'Rain mm': 0.0,\n",
       "   'Snow mm': 0.0,\n",
       "   'Temp C Max': -4.4,\n",
       "   'Temp C Min': -4.4,\n",
       "   'Windspeed mph': 4.0}},\n",
       " 'Mt Tremblant': {'2018-02-18 02:00': {'Rain mm': 0.0,\n",
       "   'Snow mm': 0.0,\n",
       "   'Temp C Max': -8.2,\n",
       "   'Temp C Min': -8.2,\n",
       "   'Windspeed mph': 2.0},\n",
       "  '2018-02-18 05:00': {'Rain mm': 0.0,\n",
       "   'Snow mm': 0.0,\n",
       "   'Temp C Max': -8.0,\n",
       "   'Temp C Min': -8.0,\n",
       "   'Windspeed mph': 3.0},\n",
       "  '2018-02-18 08:00': {'Rain mm': 0.0,\n",
       "   'Snow mm': 0.0,\n",
       "   'Temp C Max': -6.1,\n",
       "   'Temp C Min': -6.1,\n",
       "   'Windspeed mph': 7.0},\n",
       "  '2018-02-18 11:00': {'Rain mm': 0.0,\n",
       "   'Snow mm': 0.0,\n",
       "   'Temp C Max': -2.2,\n",
       "   'Temp C Min': -2.2,\n",
       "   'Windspeed mph': 11.0},\n",
       "  '2018-02-18 14:00': {'Rain mm': 0.0,\n",
       "   'Snow mm': 0.0,\n",
       "   'Temp C Max': -0.7,\n",
       "   'Temp C Min': -0.7,\n",
       "   'Windspeed mph': 10.0},\n",
       "  '2018-02-18 17:00': {'Rain mm': 0.0,\n",
       "   'Snow mm': 0.0,\n",
       "   'Temp C Max': -0.9,\n",
       "   'Temp C Min': -0.9,\n",
       "   'Windspeed mph': 9.0},\n",
       "  '2018-02-18 20:00': {'Rain mm': 0.0,\n",
       "   'Snow mm': 0.0,\n",
       "   'Temp C Max': -7.5,\n",
       "   'Temp C Min': -7.5,\n",
       "   'Windspeed mph': 4.0},\n",
       "  '2018-02-18 23:00': {'Rain mm': 0.0,\n",
       "   'Snow mm': 0.0,\n",
       "   'Temp C Max': -8.3,\n",
       "   'Temp C Min': -8.3,\n",
       "   'Windspeed mph': 4.0}},\n",
       " 'St Anne': {'2018-02-18 02:00': {'Rain mm': 0.0,\n",
       "   'Snow mm': 0.0,\n",
       "   'Temp C Max': -6.3,\n",
       "   'Temp C Min': -6.3,\n",
       "   'Windspeed mph': 8.0},\n",
       "  '2018-02-18 05:00': {'Rain mm': 0.0,\n",
       "   'Snow mm': 1.0,\n",
       "   'Temp C Max': -5.5,\n",
       "   'Temp C Min': -5.5,\n",
       "   'Windspeed mph': 6.0},\n",
       "  '2018-02-18 08:00': {'Rain mm': 0.0,\n",
       "   'Snow mm': 0.0,\n",
       "   'Temp C Max': -5.9,\n",
       "   'Temp C Min': -5.9,\n",
       "   'Windspeed mph': 6.0},\n",
       "  '2018-02-18 11:00': {'Rain mm': 0.0,\n",
       "   'Snow mm': 0.0,\n",
       "   'Temp C Max': -1.9,\n",
       "   'Temp C Min': -1.9,\n",
       "   'Windspeed mph': 10.0},\n",
       "  '2018-02-18 14:00': {'Rain mm': 0.0,\n",
       "   'Snow mm': 0.0,\n",
       "   'Temp C Max': -0.5,\n",
       "   'Temp C Min': -0.5,\n",
       "   'Windspeed mph': 12.0},\n",
       "  '2018-02-18 17:00': {'Rain mm': 0.0,\n",
       "   'Snow mm': 0.0,\n",
       "   'Temp C Max': -1.8,\n",
       "   'Temp C Min': -1.8,\n",
       "   'Windspeed mph': 9.0},\n",
       "  '2018-02-18 20:00': {'Rain mm': 0.0,\n",
       "   'Snow mm': 0.0,\n",
       "   'Temp C Max': -8.6,\n",
       "   'Temp C Min': -8.6,\n",
       "   'Windspeed mph': 7.0},\n",
       "  '2018-02-18 23:00': {'Rain mm': 0.0,\n",
       "   'Snow mm': 0.0,\n",
       "   'Temp C Max': -11.2,\n",
       "   'Temp C Min': -11.2,\n",
       "   'Windspeed mph': 4.0}}}"
      ]
     },
     "execution_count": 143,
     "metadata": {},
     "output_type": "execute_result"
    }
   ],
   "source": [
    "forecast_dict = get_forecast_weather(loc_dict)\n",
    "forecast_dict"
   ]
  },
  {
   "cell_type": "code",
   "execution_count": 182,
   "metadata": {},
   "outputs": [],
   "source": [
    "curr_dict = get_current_weather(loc_dict)"
   ]
  },
  {
   "cell_type": "code",
   "execution_count": 183,
   "metadata": {},
   "outputs": [
    {
     "data": {
      "text/plain": [
       "{'Jay Peak': {'Rain_mm': 0.0,\n",
       "  'Snow_mm': 0.0,\n",
       "  'Temp_C_Max': -3.2,\n",
       "  'Temp_C_Min': -3.7,\n",
       "  'Timestamp': '2018-02-17 21:10',\n",
       "  'Windspeed_Mph': 7.0},\n",
       " 'Le Massif': {'Rain_mm': 0.0,\n",
       "  'Snow_mm': 0.0,\n",
       "  'Temp_C_Max': -5.7,\n",
       "  'Temp_C_Min': -5.7,\n",
       "  'Timestamp': '2018-02-17 21:10',\n",
       "  'Windspeed_Mph': 6.0},\n",
       " 'Mt Sutton': {'Rain_mm': 0.0,\n",
       "  'Snow_mm': 0.0,\n",
       "  'Temp_C_Max': -3.2,\n",
       "  'Temp_C_Min': -3.7,\n",
       "  'Timestamp': '2018-02-17 21:10',\n",
       "  'Windspeed_Mph': 7.0},\n",
       " 'Mt Tremblant': {'Rain_mm': 0.0,\n",
       "  'Snow_mm': 0.0,\n",
       "  'Temp_C_Max': -6.0,\n",
       "  'Temp_C_Min': -7.0,\n",
       "  'Timestamp': '2018-02-17 21:10',\n",
       "  'Windspeed_Mph': 4.0},\n",
       " 'St Anne': {'Rain_mm': 0.0,\n",
       "  'Snow_mm': 0.0,\n",
       "  'Temp_C_Max': -10.6,\n",
       "  'Temp_C_Min': -10.6,\n",
       "  'Timestamp': '2018-02-17 21:10',\n",
       "  'Windspeed_Mph': 3.0}}"
      ]
     },
     "execution_count": 183,
     "metadata": {},
     "output_type": "execute_result"
    }
   ],
   "source": [
    "curr_dict"
   ]
  },
  {
   "cell_type": "code",
   "execution_count": null,
   "metadata": {},
   "outputs": [],
   "source": []
  },
  {
   "cell_type": "code",
   "execution_count": 172,
   "metadata": {},
   "outputs": [],
   "source": [
    "r=requests.get('http://api.openweathermap.org/data/2.5/weather?lat=35&lon=139&APPID=4061abd841220f4e41b4b7e7429a79f')"
   ]
  },
  {
   "cell_type": "code",
   "execution_count": 173,
   "metadata": {},
   "outputs": [
    {
     "data": {
      "text/plain": [
       "'{\"cod\":401, \"message\": \"Invalid API key. Please see http://openweathermap.org/faq#error401 for more info.\"}'"
      ]
     },
     "execution_count": 173,
     "metadata": {},
     "output_type": "execute_result"
    }
   ],
   "source": [
    "r.text"
   ]
  },
  {
   "cell_type": "code",
   "execution_count": 174,
   "metadata": {},
   "outputs": [],
   "source": [
    "r = requests.get('http://api.openweathermap.org/data/2.5/forecast?id=524901&APPID=4061abd841220f4e41b4b7e7429a79f')"
   ]
  },
  {
   "cell_type": "code",
   "execution_count": 175,
   "metadata": {},
   "outputs": [
    {
     "data": {
      "text/plain": [
       "'{\"cod\":401, \"message\": \"Invalid API key. Please see http://openweathermap.org/faq#error401 for more info.\"}'"
      ]
     },
     "execution_count": 175,
     "metadata": {},
     "output_type": "execute_result"
    }
   ],
   "source": [
    "r.text"
   ]
  },
  {
   "cell_type": "code",
   "execution_count": null,
   "metadata": {},
   "outputs": [],
   "source": []
  },
  {
   "cell_type": "code",
   "execution_count": 163,
   "metadata": {},
   "outputs": [],
   "source": [
    "cursor=conn.cursor()\n",
    "cursor.execute(\"CREATE TABLE forecasts( \\\n",
    "                Location TEXT, \\\n",
    "                Timestamp TIMESTAMP, \\\n",
    "                Rain_mm REAL, \\\n",
    "                Snow_mm REAL, \\\n",
    "                Temp_C_Max REAL, \\\n",
    "                Temp_C_Min REAL, \\\n",
    "                Windspeed_Mph REAL, \\\n",
    "                PRIMARY KEY(Location, Timestamp));\")\n",
    "\n",
    "conn.commit()"
   ]
  },
  {
   "cell_type": "code",
   "execution_count": 184,
   "metadata": {},
   "outputs": [],
   "source": [
    "cursor=conn.cursor()\n",
    "cursor.execute(\"CREATE TABLE current( \\\n",
    "                Location TEXT, \\\n",
    "                Timestamp TIMESTAMP, \\\n",
    "                Rain_mm REAL, \\\n",
    "                Snow_mm REAL, \\\n",
    "                Temp_C_Max REAL, \\\n",
    "                Temp_C_Min REAL, \\\n",
    "                Windspeed_Mph REAL, \\\n",
    "                PRIMARY KEY(Location, Timestamp));\")\n",
    "\n",
    "conn.commit()"
   ]
  },
  {
   "cell_type": "code",
   "execution_count": 169,
   "metadata": {},
   "outputs": [],
   "source": [
    "conn.commit()"
   ]
  },
  {
   "cell_type": "code",
   "execution_count": 195,
   "metadata": {},
   "outputs": [],
   "source": [
    "conn.rollback()\n"
   ]
  },
  {
   "cell_type": "code",
   "execution_count": null,
   "metadata": {},
   "outputs": [],
   "source": [
    "curr_dict"
   ]
  },
  {
   "cell_type": "code",
   "execution_count": 191,
   "metadata": {},
   "outputs": [
    {
     "data": {
      "text/plain": [
       "{'Jay Peak': {'Location': 'Jay Peak',\n",
       "  'Rain_mm': 0.0,\n",
       "  'Snow_mm': 0.0,\n",
       "  'Temp_C_Max': -3.2,\n",
       "  'Temp_C_Min': -3.7,\n",
       "  'Timestamp': '2018-02-17 21:10',\n",
       "  'Windspeed_Mph': 7.0},\n",
       " 'Le Massif': {'Location': 'Le Massif',\n",
       "  'Rain_mm': 0.0,\n",
       "  'Snow_mm': 0.0,\n",
       "  'Temp_C_Max': -5.7,\n",
       "  'Temp_C_Min': -5.7,\n",
       "  'Timestamp': '2018-02-17 21:10',\n",
       "  'Windspeed_Mph': 6.0},\n",
       " 'Mt Sutton': {'Location': 'Mt Sutton',\n",
       "  'Rain_mm': 0.0,\n",
       "  'Snow_mm': 0.0,\n",
       "  'Temp_C_Max': -3.2,\n",
       "  'Temp_C_Min': -3.7,\n",
       "  'Timestamp': '2018-02-17 21:10',\n",
       "  'Windspeed_Mph': 7.0},\n",
       " 'Mt Tremblant': {'Location': 'Mt Tremblant',\n",
       "  'Rain_mm': 0.0,\n",
       "  'Snow_mm': 0.0,\n",
       "  'Temp_C_Max': -6.0,\n",
       "  'Temp_C_Min': -7.0,\n",
       "  'Timestamp': '2018-02-17 21:10',\n",
       "  'Windspeed_Mph': 4.0},\n",
       " 'St Anne': {'Location': 'St Anne',\n",
       "  'Rain_mm': 0.0,\n",
       "  'Snow_mm': 0.0,\n",
       "  'Temp_C_Max': -10.6,\n",
       "  'Temp_C_Min': -10.6,\n",
       "  'Timestamp': '2018-02-17 21:10',\n",
       "  'Windspeed_Mph': 3.0}}"
      ]
     },
     "execution_count": 191,
     "metadata": {},
     "output_type": "execute_result"
    }
   ],
   "source": [
    "curr_dict"
   ]
  },
  {
   "cell_type": "code",
   "execution_count": 196,
   "metadata": {},
   "outputs": [],
   "source": [
    "add_current(curr_dict)"
   ]
  },
  {
   "cell_type": "code",
   "execution_count": 197,
   "metadata": {},
   "outputs": [],
   "source": [
    "conn.commit()"
   ]
  },
  {
   "cell_type": "code",
   "execution_count": null,
   "metadata": {},
   "outputs": [],
   "source": []
  }
 ],
 "metadata": {
  "kernelspec": {
   "display_name": "ski",
   "language": "python",
   "name": "ski"
  },
  "language_info": {
   "codemirror_mode": {
    "name": "ipython",
    "version": 3
   },
   "file_extension": ".py",
   "mimetype": "text/x-python",
   "name": "python",
   "nbconvert_exporter": "python",
   "pygments_lexer": "ipython3",
   "version": "3.6.2"
  }
 },
 "nbformat": 4,
 "nbformat_minor": 1
}
