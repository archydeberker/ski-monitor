{
 "cells": [
  {
   "cell_type": "code",
   "execution_count": 94,
   "metadata": {
    "collapsed": false
   },
   "outputs": [],
   "source": [
    "import os\n",
    "from urllib import parse\n",
    "import psycopg2\n",
    "import numpy as np\n",
    "import pandas as pd\n"
   ]
  },
  {
   "cell_type": "code",
   "execution_count": 91,
   "metadata": {
    "collapsed": false
   },
   "outputs": [],
   "source": [
    "\n",
    "parse.uses_netloc.append(\"postgres\")\n",
    "url = parse.urlparse(os.environ.get(\"DATABASE_URL\"))\n",
    "\n",
    "conn = psycopg2.connect(\n",
    "    database=url.path[1:],\n",
    "    user=url.username,\n",
    "    password=url.password,\n",
    "    host=url.hostname,\n",
    "    port=url.port)\n"
   ]
  },
  {
   "cell_type": "code",
   "execution_count": 11,
   "metadata": {
    "collapsed": true
   },
   "outputs": [],
   "source": []
  },
  {
   "cell_type": "code",
   "execution_count": 25,
   "metadata": {
    "collapsed": false
   },
   "outputs": [
    {
     "name": "stdout",
     "output_type": "stream",
     "text": [
      "[('temperatures',)]\n"
     ]
    }
   ],
   "source": [
    "cursor.execute(\"select relname from pg_class where relkind='r' and relname !~ '^(pg_|sql_)';\")\n",
    "print(cursor.fetchall())"
   ]
  },
  {
   "cell_type": "code",
   "execution_count": 22,
   "metadata": {
    "collapsed": false
   },
   "outputs": [],
   "source": [
    "cursor=conn.cursor()\n",
    "cursor.execute(\"CREATE TABLE temperatures( \\\n",
    "                resort TEXT, \\\n",
    "                time TIMESTAMP, \\\n",
    "                measurement REAL, \\\n",
    "                PRIMARY KEY(resort, time));\")"
   ]
  },
  {
   "cell_type": "code",
   "execution_count": 79,
   "metadata": {
    "collapsed": true
   },
   "outputs": [],
   "source": [
    "conn.rollback()"
   ]
  },
  {
   "cell_type": "code",
   "execution_count": 90,
   "metadata": {
    "collapsed": true
   },
   "outputs": [],
   "source": [
    "conn.commit()"
   ]
  },
  {
   "cell_type": "code",
   "execution_count": 30,
   "metadata": {
    "collapsed": false
   },
   "outputs": [
    {
     "name": "stdout",
     "output_type": "stream",
     "text": [
      "2018-02-17 14:11:09\n"
     ]
    }
   ],
   "source": [
    "import datetime\n",
    "print(datetime.datetime.now().strftime('%Y-%m-%d %H:%M:%S')\n",
    ")"
   ]
  },
  {
   "cell_type": "code",
   "execution_count": 99,
   "metadata": {
    "collapsed": false
   },
   "outputs": [],
   "source": [
    "base_str = \"INSERT INTO temperatures (resort, time, measurement) VALUES ( \\\n",
    "            'Sutton',  '%s',  %1.2f)\"\n",
    "\n",
    "for i in range(10):\n",
    "    timestamp = (datetime.datetime.now()+datetime.timedelta(days=i)).strftime('%Y-%m-%d %H:%M:%S')\n",
    "    measurement = np.random.randn()\n",
    "\n",
    "    cursor.execute(base_str%(timestamp, measurement))\n",
    "\n",
    "    \n",
    "conn.commit()"
   ]
  },
  {
   "cell_type": "code",
   "execution_count": 92,
   "metadata": {
    "collapsed": false
   },
   "outputs": [],
   "source": [
    "cursor=conn.cursor()\n",
    "cursor.execute(\"SELECT * from temperatures;\")\n"
   ]
  },
  {
   "cell_type": "code",
   "execution_count": 93,
   "metadata": {
    "collapsed": false
   },
   "outputs": [
    {
     "data": {
      "text/plain": [
       "('jay', datetime.datetime(2018, 2, 17, 14, 28, 2), -1.12)"
      ]
     },
     "execution_count": 93,
     "metadata": {},
     "output_type": "execute_result"
    }
   ],
   "source": [
    "cursor.fetchone()"
   ]
  },
  {
   "cell_type": "code",
   "execution_count": 97,
   "metadata": {
    "collapsed": false
   },
   "outputs": [],
   "source": [
    "df = pd.read_sql('SELECT * from temperatures;', conn)"
   ]
  },
  {
   "cell_type": "code",
   "execution_count": 98,
   "metadata": {
    "collapsed": false
   },
   "outputs": [
    {
     "data": {
      "text/html": [
       "<div>\n",
       "<style scoped>\n",
       "    .dataframe tbody tr th:only-of-type {\n",
       "        vertical-align: middle;\n",
       "    }\n",
       "\n",
       "    .dataframe tbody tr th {\n",
       "        vertical-align: top;\n",
       "    }\n",
       "\n",
       "    .dataframe thead th {\n",
       "        text-align: right;\n",
       "    }\n",
       "</style>\n",
       "<table border=\"1\" class=\"dataframe\">\n",
       "  <thead>\n",
       "    <tr style=\"text-align: right;\">\n",
       "      <th></th>\n",
       "      <th>resort</th>\n",
       "      <th>time</th>\n",
       "      <th>measurement</th>\n",
       "    </tr>\n",
       "  </thead>\n",
       "  <tbody>\n",
       "    <tr>\n",
       "      <th>0</th>\n",
       "      <td>jay</td>\n",
       "      <td>2018-02-17 14:28:02</td>\n",
       "      <td>-1.12</td>\n",
       "    </tr>\n",
       "    <tr>\n",
       "      <th>1</th>\n",
       "      <td>jay</td>\n",
       "      <td>2018-02-18 14:28:02</td>\n",
       "      <td>0.31</td>\n",
       "    </tr>\n",
       "    <tr>\n",
       "      <th>2</th>\n",
       "      <td>jay</td>\n",
       "      <td>2018-02-19 14:28:02</td>\n",
       "      <td>-0.84</td>\n",
       "    </tr>\n",
       "    <tr>\n",
       "      <th>3</th>\n",
       "      <td>jay</td>\n",
       "      <td>2018-02-20 14:28:02</td>\n",
       "      <td>0.05</td>\n",
       "    </tr>\n",
       "    <tr>\n",
       "      <th>4</th>\n",
       "      <td>jay</td>\n",
       "      <td>2018-02-21 14:28:02</td>\n",
       "      <td>0.17</td>\n",
       "    </tr>\n",
       "    <tr>\n",
       "      <th>5</th>\n",
       "      <td>jay</td>\n",
       "      <td>2018-02-22 14:28:02</td>\n",
       "      <td>0.83</td>\n",
       "    </tr>\n",
       "    <tr>\n",
       "      <th>6</th>\n",
       "      <td>jay</td>\n",
       "      <td>2018-02-23 14:28:03</td>\n",
       "      <td>0.02</td>\n",
       "    </tr>\n",
       "    <tr>\n",
       "      <th>7</th>\n",
       "      <td>jay</td>\n",
       "      <td>2018-02-24 14:28:03</td>\n",
       "      <td>2.15</td>\n",
       "    </tr>\n",
       "    <tr>\n",
       "      <th>8</th>\n",
       "      <td>jay</td>\n",
       "      <td>2018-02-25 14:28:03</td>\n",
       "      <td>1.19</td>\n",
       "    </tr>\n",
       "    <tr>\n",
       "      <th>9</th>\n",
       "      <td>jay</td>\n",
       "      <td>2018-02-26 14:28:03</td>\n",
       "      <td>-1.13</td>\n",
       "    </tr>\n",
       "    <tr>\n",
       "      <th>10</th>\n",
       "      <td>jay</td>\n",
       "      <td>2018-02-17 14:28:18</td>\n",
       "      <td>-0.32</td>\n",
       "    </tr>\n",
       "    <tr>\n",
       "      <th>11</th>\n",
       "      <td>jay</td>\n",
       "      <td>2018-02-18 14:28:19</td>\n",
       "      <td>-0.64</td>\n",
       "    </tr>\n",
       "    <tr>\n",
       "      <th>12</th>\n",
       "      <td>jay</td>\n",
       "      <td>2018-02-19 14:28:19</td>\n",
       "      <td>-0.50</td>\n",
       "    </tr>\n",
       "    <tr>\n",
       "      <th>13</th>\n",
       "      <td>jay</td>\n",
       "      <td>2018-02-20 14:28:19</td>\n",
       "      <td>1.99</td>\n",
       "    </tr>\n",
       "    <tr>\n",
       "      <th>14</th>\n",
       "      <td>jay</td>\n",
       "      <td>2018-02-21 14:28:19</td>\n",
       "      <td>-0.07</td>\n",
       "    </tr>\n",
       "    <tr>\n",
       "      <th>15</th>\n",
       "      <td>jay</td>\n",
       "      <td>2018-02-22 14:28:19</td>\n",
       "      <td>-1.76</td>\n",
       "    </tr>\n",
       "    <tr>\n",
       "      <th>16</th>\n",
       "      <td>jay</td>\n",
       "      <td>2018-02-23 14:28:19</td>\n",
       "      <td>0.73</td>\n",
       "    </tr>\n",
       "    <tr>\n",
       "      <th>17</th>\n",
       "      <td>jay</td>\n",
       "      <td>2018-02-24 14:28:19</td>\n",
       "      <td>-1.50</td>\n",
       "    </tr>\n",
       "    <tr>\n",
       "      <th>18</th>\n",
       "      <td>jay</td>\n",
       "      <td>2018-02-25 14:28:19</td>\n",
       "      <td>-0.16</td>\n",
       "    </tr>\n",
       "    <tr>\n",
       "      <th>19</th>\n",
       "      <td>jay</td>\n",
       "      <td>2018-02-26 14:28:19</td>\n",
       "      <td>1.08</td>\n",
       "    </tr>\n",
       "  </tbody>\n",
       "</table>\n",
       "</div>"
      ],
      "text/plain": [
       "   resort                time  measurement\n",
       "0     jay 2018-02-17 14:28:02        -1.12\n",
       "1     jay 2018-02-18 14:28:02         0.31\n",
       "2     jay 2018-02-19 14:28:02        -0.84\n",
       "3     jay 2018-02-20 14:28:02         0.05\n",
       "4     jay 2018-02-21 14:28:02         0.17\n",
       "5     jay 2018-02-22 14:28:02         0.83\n",
       "6     jay 2018-02-23 14:28:03         0.02\n",
       "7     jay 2018-02-24 14:28:03         2.15\n",
       "8     jay 2018-02-25 14:28:03         1.19\n",
       "9     jay 2018-02-26 14:28:03        -1.13\n",
       "10    jay 2018-02-17 14:28:18        -0.32\n",
       "11    jay 2018-02-18 14:28:19        -0.64\n",
       "12    jay 2018-02-19 14:28:19        -0.50\n",
       "13    jay 2018-02-20 14:28:19         1.99\n",
       "14    jay 2018-02-21 14:28:19        -0.07\n",
       "15    jay 2018-02-22 14:28:19        -1.76\n",
       "16    jay 2018-02-23 14:28:19         0.73\n",
       "17    jay 2018-02-24 14:28:19        -1.50\n",
       "18    jay 2018-02-25 14:28:19        -0.16\n",
       "19    jay 2018-02-26 14:28:19         1.08"
      ]
     },
     "execution_count": 98,
     "metadata": {},
     "output_type": "execute_result"
    }
   ],
   "source": [
    "df"
   ]
  },
  {
   "cell_type": "code",
   "execution_count": 100,
   "metadata": {
    "collapsed": true
   },
   "outputs": [],
   "source": [
    "baseurl = 'https://api.weatherunlocked.com/'"
   ]
  },
  {
   "cell_type": "code",
   "execution_count": 101,
   "metadata": {
    "collapsed": true
   },
   "outputs": [],
   "source": [
    "import requests"
   ]
  },
  {
   "cell_type": "code",
   "execution_count": 123,
   "metadata": {
    "collapsed": false
   },
   "outputs": [],
   "source": [
    "r=requests.get('http://api.weatherunlocked.com/api/current/51.50,-0.12?app_id=6765a93c&app_key=51b7b6cb5cf11b77b78d84d8f5c44845')"
   ]
  },
  {
   "cell_type": "code",
   "execution_count": 124,
   "metadata": {
    "collapsed": false
   },
   "outputs": [
    {
     "data": {
      "text/plain": [
       "'{\"lat\":51.5,\"lon\":0.05,\"alt_m\":5.0,\"alt_ft\":16.4,\"wx_desc\":\"Partly cloudy\",\"wx_code\":1,\"wx_icon\":\"PartlyCloudyNight.gif\",\"temp_c\":6.0,\"temp_f\":42.8,\"feelslike_c\":4.59,\"feelslike_f\":40.26,\"humid_pct\":75.0,\"windspd_mph\":4.35,\"windspd_kmh\":7.0,\"windspd_kts\":3.78,\"windspd_ms\":1.94,\"winddir_deg\":220.0,\"winddir_compass\":\"SW\",\"cloudtotal_pct\":50.0,\"vis_km\":10.0,\"vis_mi\":6.21,\"vis_desc\":null,\"slp_mb\":1023.0,\"slp_in\":30.29,\"dewpoint_c\":1.93,\"dewpoint_f\":35.47}'"
      ]
     },
     "execution_count": 124,
     "metadata": {},
     "output_type": "execute_result"
    }
   ],
   "source": [
    "r.text"
   ]
  },
  {
   "cell_type": "code",
   "execution_count": 112,
   "metadata": {
    "collapsed": false
   },
   "outputs": [],
   "source": [
    "loc_dict = {'Jay':(1,1), 'Sutton':(45.1047, -72.5618), 'Mt Tremblant': (1,1)}"
   ]
  },
  {
   "cell_type": "code",
   "execution_count": 113,
   "metadata": {
    "collapsed": false
   },
   "outputs": [],
   "source": [
    "r=requests.get('http://api.weatherunlocked.com/api/current/%1.2f,%1.2f?app_id=6765a93c&app_key=51b7b6cb5cf11b77b78d84d8f5c44845'%(loc_dict['Sutton']))"
   ]
  },
  {
   "cell_type": "code",
   "execution_count": 114,
   "metadata": {
    "collapsed": false
   },
   "outputs": [
    {
     "data": {
      "text/plain": [
       "'{\"lat\":45.05,\"lon\":-72.83,\"alt_m\":152.0,\"alt_ft\":498.69,\"wx_desc\":\"Partly cloudy\",\"wx_code\":1,\"wx_icon\":\"PartlyCloudyDay.gif\",\"temp_c\":-1.8,\"temp_f\":28.76,\"feelslike_c\":-5.15,\"feelslike_f\":22.72,\"humid_pct\":39.0,\"windspd_mph\":5.59,\"windspd_kmh\":9.0,\"windspd_kts\":4.86,\"windspd_ms\":2.5,\"winddir_deg\":170.0,\"winddir_compass\":\"S\",\"cloudtotal_pct\":50.0,\"vis_km\":14.0,\"vis_mi\":8.7,\"vis_desc\":null,\"slp_mb\":1022.4,\"slp_in\":30.28,\"dewpoint_c\":-13.85,\"dewpoint_f\":7.07}'"
      ]
     },
     "execution_count": 114,
     "metadata": {},
     "output_type": "execute_result"
    }
   ],
   "source": [
    "r.text"
   ]
  },
  {
   "cell_type": "code",
   "execution_count": 121,
   "metadata": {
    "collapsed": true
   },
   "outputs": [],
   "source": [
    "r=requests.get('http://api.weatherunlocked.com/api/snowreport/999001?app_id=6765a93c&app_key=51b7b6cb5cf11b77b78d84d8f5c44845')"
   ]
  },
  {
   "cell_type": "code",
   "execution_count": 122,
   "metadata": {
    "collapsed": false
   },
   "outputs": [
    {
     "data": {
      "text/plain": [
       "'{\"title\":\"Resort requested is not selected in the dashboard\",\"Description\":\"Select resorts at https://developer.weatherunlocked.com/skiresort/dashboard\",\"InternalCode\":\"\",\"HelpUrl\":\"https://developer.weatherunlocked.com/documentation/skiresort\"}'"
      ]
     },
     "execution_count": 122,
     "metadata": {},
     "output_type": "execute_result"
    }
   ],
   "source": [
    "r.text"
   ]
  },
  {
   "cell_type": "code",
   "execution_count": null,
   "metadata": {
    "collapsed": true
   },
   "outputs": [],
   "source": [
    "def get_current_weather(loc_dict):\n",
    "    pass\n",
    "\n",
    "def add_row(data, resort_name, table_name):\n",
    "    pass\n",
    "    "
   ]
  }
 ],
 "metadata": {
  "kernelspec": {
   "display_name": "ski",
   "language": "python",
   "name": "ski"
  },
  "language_info": {
   "codemirror_mode": {
    "name": "ipython",
    "version": 3
   },
   "file_extension": ".py",
   "mimetype": "text/x-python",
   "name": "python",
   "nbconvert_exporter": "python",
   "pygments_lexer": "ipython3",
   "version": "3.6.2"
  }
 },
 "nbformat": 4,
 "nbformat_minor": 0
}
